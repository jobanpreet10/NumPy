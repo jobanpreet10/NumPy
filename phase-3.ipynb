{
 "cells": [
  {
   "cell_type": "code",
   "execution_count": 4,
   "id": "9d752f5f",
   "metadata": {},
   "outputs": [],
   "source": [
    "import numpy as np\n",
    "import matplotlib.pyplot as plt"
   ]
  },
  {
   "cell_type": "markdown",
   "id": "1a080749",
   "metadata": {},
   "source": [
    "# Data structure: [restaurant id, 2021, 2022, 2023, 2024]\n",
    "\n",
    "sales_data = np.array([\n",
    "\n",
    "[1, 150000, 180000, 220000, 25000],# Paradise Biryani    \n",
    "\n",
    "[2, 120000, 140000, 160000, 190000],# Beijing Bites\n",
    "\n",
    "[3, 200000, 230000, 260000, 300000], # Pizza Hub\n",
    "\n",
    "[4, 180000, 210000, 240000, 270000],# Burger Point\n",
    "\n",
    "[5, 160000, 185000, 205000, 230000]# Chai Point\n",
    ")]\n",
    "\n",
    "\n",
    "print(\"\")"
   ]
  },
  {
   "cell_type": "code",
   "execution_count": null,
   "id": "b61ebf0e",
   "metadata": {},
   "outputs": [
    {
     "name": "stdout",
     "output_type": "stream",
     "text": [
      "=== Zomato sales analysis ===\n",
      "\n",
      " Sales data shape (5, 5)\n",
      "\n",
      " Sample data for 1st 3 restaurants\n",
      " [[     1 150000 180000 220000  25000]\n",
      " [     2 120000 140000 160000 190000]\n",
      " [     3 200000 230000 260000 300000]]\n"
     ]
    }
   ],
   "source": [
    "# Data structure: [restaurant id, 2021, 2022, 2023, 2024]\n",
    "\n",
    "sales_data = np.array([\n",
    "\n",
    "[1, 150000, 180000, 220000, 25000],# Paradise Biryani    \n",
    "\n",
    "[2, 120000, 140000, 160000, 190000],# Beijing Bites\n",
    "\n",
    "[3, 200000, 230000, 260000, 300000], # Pizza Hub\n",
    "\n",
    "[4, 180000, 210000, 240000, 270000],# Burger Point\n",
    "\n",
    "[5, 160000, 185000, 205000, 230000]# Chai Point\n",
    "])\n",
    "\n",
    "\n",
    "print(\"=== Zomato sales analysis ===\")\n",
    "print(\"\\n Sales data shape\",sales_data.shape)\n",
    "print(\"\\n Sample data for 1st 3 restaurants\\n\", sales_data[:3])\n"
   ]
  },
  {
   "cell_type": "code",
   "execution_count": null,
   "id": "9601a688",
   "metadata": {},
   "outputs": [
    {
     "name": "stdout",
     "output_type": "stream",
     "text": [
      "[     15  810000  945000 1085000 1015000]\n"
     ]
    }
   ],
   "source": [
    "#total sales per year\n",
    "\n",
    "print(np.sum(sales_data,axis=0))\n",
    "\n",
    "#yearly total\n",
    "\n",
    "print(np.sum(sales_data[:,1:]))\n"
   ]
  },
  {
   "cell_type": "code",
   "execution_count": null,
   "id": "48884e1d",
   "metadata": {},
   "outputs": [],
   "source": []
  }
 ],
 "metadata": {
  "kernelspec": {
   "display_name": ".venv",
   "language": "python",
   "name": "python3"
  },
  "language_info": {
   "codemirror_mode": {
    "name": "ipython",
    "version": 3
   },
   "file_extension": ".py",
   "mimetype": "text/x-python",
   "name": "python",
   "nbconvert_exporter": "python",
   "pygments_lexer": "ipython3",
   "version": "3.13.3"
  }
 },
 "nbformat": 4,
 "nbformat_minor": 5
}
