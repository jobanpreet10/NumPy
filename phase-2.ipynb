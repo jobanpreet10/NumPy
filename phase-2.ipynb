{
 "cells": [
  {
   "cell_type": "markdown",
   "id": "0814cc77",
   "metadata": {},
   "source": [
    "## NumPy Array operations"
   ]
  },
  {
   "cell_type": "code",
   "execution_count": 2,
   "id": "b43cb524",
   "metadata": {},
   "outputs": [],
   "source": [
    "import numpy as np"
   ]
  },
  {
   "cell_type": "code",
   "execution_count": 8,
   "id": "d2ae8561",
   "metadata": {},
   "outputs": [
    {
     "name": "stdout",
     "output_type": "stream",
     "text": [
      "Basic Slicing [3 4 5 6 7]\n",
      "With step [2 4 6 8]\n",
      "Negative indexing  7\n"
     ]
    }
   ],
   "source": [
    "arr = np.array([1,2,3,4,5,6,7,8,9])\n",
    "print(\"Basic Slicing\", arr[2:7])\n",
    "print(\"With step\", arr[1:8:2])\n",
    "print(\"Negative indexing \",arr[-3])"
   ]
  },
  {
   "cell_type": "code",
   "execution_count": 9,
   "id": "db519b4a",
   "metadata": {},
   "outputs": [
    {
     "name": "stdout",
     "output_type": "stream",
     "text": [
      "Specific eLement 6\n",
      "Entire row : [4 5 6]\n",
      "Entire column : [2 5 8]\n"
     ]
    }
   ],
   "source": [
    "arr_2d = np.array([[1,2,3],\n",
    "                   [4,5,6],\n",
    "                   [7,8,9]])\n",
    "print(\"Specific eLement\", arr_2d[1,2]) ## first row ka second element\n",
    "\n",
    "print(\"Entire row :\",arr_2d[1])\n",
    "print(\"Entire column :\",arr_2d[:,1])"
   ]
  },
  {
   "cell_type": "markdown",
   "id": "6c892205",
   "metadata": {},
   "source": [
    "## Sorting"
   ]
  },
  {
   "cell_type": "code",
   "execution_count": null,
   "id": "4a48c269",
   "metadata": {},
   "outputs": [
    {
     "name": "stdout",
     "output_type": "stream",
     "text": [
      "Sorted Array  [ 1  2  2  2  3  4  4 10 35]\n",
      "Sorted 2D array by column [[2 3]\n",
      " [0 1]\n",
      " [1 2]]\n"
     ]
    }
   ],
   "source": [
    "unsorted_arr = np.array([1,2,3,10,2,4,35,2,4])\n",
    "print(\"Sorted Array \", np.sort(unsorted_arr))\n",
    "\n",
    "\n",
    "unsorted_arr_2d = np.array([[3, 2],\n",
    "                           [1, 0],\n",
    "                           [2, 1]])\n",
    "\n",
    "print(\"Sorted 2D array by column\", np.sort(unsorted_arr_2d,axis=0))\n",
    "\n"
   ]
  },
  {
   "cell_type": "markdown",
   "id": "62b035cf",
   "metadata": {},
   "source": []
  },
  {
   "cell_type": "markdown",
   "id": "3e8b3d1e",
   "metadata": {},
   "source": [
    "## Filter\n"
   ]
  },
  {
   "cell_type": "code",
   "execution_count": 16,
   "id": "7d02ed4c",
   "metadata": {},
   "outputs": [
    {
     "name": "stdout",
     "output_type": "stream",
     "text": [
      "Even numbers  [2 4 6 8]\n"
     ]
    }
   ],
   "source": [
    "numbers  = np.array([1,2,3,4,5,6,7,7,8,9,9])\n",
    "\n",
    "even_number = numbers[numbers % 2 == 0]\n",
    "\n",
    "print(\"Even numbers \", even_number)"
   ]
  },
  {
   "cell_type": "markdown",
   "id": "5f736978",
   "metadata": {},
   "source": [
    "## Filter with mask"
   ]
  },
  {
   "cell_type": "code",
   "execution_count": 17,
   "id": "52ef388d",
   "metadata": {},
   "outputs": [
    {
     "name": "stdout",
     "output_type": "stream",
     "text": [
      "Numbers greater than 5  [6 7 7 8 9 9]\n"
     ]
    }
   ],
   "source": [
    "mask = numbers > 5\n",
    "print(\"Numbers greater than 5 \", numbers[mask])"
   ]
  },
  {
   "cell_type": "markdown",
   "id": "094c4402",
   "metadata": {},
   "source": [
    "## Fancy indexing and np.where()"
   ]
  },
  {
   "cell_type": "code",
   "execution_count": null,
   "id": "e518f5df",
   "metadata": {},
   "outputs": [
    {
     "name": "stdout",
     "output_type": "stream",
     "text": [
      "[1 3 5]\n",
      "NP Where [6 7 7 8 9 9]\n"
     ]
    }
   ],
   "source": [
    "indices = [0,2,4]\n",
    "print(numbers[indices])\n",
    "\n",
    "where_result = np.where(numbers > 5)\n",
    "## where_result will store the indices of the numbers greater than 5\n",
    "print(\"NP Where\", numbers[where_result])"
   ]
  },
  {
   "cell_type": "markdown",
   "id": "a61d593f",
   "metadata": {},
   "source": []
  },
  {
   "cell_type": "code",
   "execution_count": null,
   "id": "a8c49ca3",
   "metadata": {},
   "outputs": [
    {
     "name": "stdout",
     "output_type": "stream",
     "text": [
      "[1 2 3 4 5 6 7 7 8 9 9]\n"
     ]
    }
   ],
   "source": [
    "condition_array = np.where(numbers > 10, \"true\", \"false\")\n",
    "print(condition_array)"
   ]
  },
  {
   "cell_type": "markdown",
   "id": "76147759",
   "metadata": {},
   "source": [
    "## Adding and  removing data\n"
   ]
  },
  {
   "cell_type": "code",
   "execution_count": 3,
   "id": "ca7445fd",
   "metadata": {},
   "outputs": [
    {
     "name": "stdout",
     "output_type": "stream",
     "text": [
      "[1 2 3 4 5 6]\n"
     ]
    }
   ],
   "source": [
    "arr1 = np.array([1,2,3])\n",
    "arr2 = np.array([4,5,6])\n",
    "\n",
    "combined = np.concatenate((arr1,arr2))\n",
    "print(combined)"
   ]
  },
  {
   "cell_type": "markdown",
   "id": "67027911",
   "metadata": {},
   "source": [
    "## Array Compatibility"
   ]
  },
  {
   "cell_type": "code",
   "execution_count": 4,
   "id": "0b2e912b",
   "metadata": {},
   "outputs": [
    {
     "name": "stdout",
     "output_type": "stream",
     "text": [
      "Compatibility Shapes  True\n"
     ]
    }
   ],
   "source": [
    "a = np.array([1,2,3])\n",
    "b = np.array([4,5,6])\n",
    "c = np.array([7,8,9])\n",
    "\n",
    "print(\"Compatibility Shapes \",a.shape == b.shape)"
   ]
  },
  {
   "cell_type": "code",
   "execution_count": null,
   "id": "fa16f347",
   "metadata": {},
   "outputs": [
    {
     "name": "stdout",
     "output_type": "stream",
     "text": [
      "Orignal:\n",
      " [[1 2]\n",
      " [3 4]]\n",
      "\n",
      " With new Row :\n",
      " [[1 2]\n",
      " [3 4]\n",
      " [5 6]]\n",
      "\n",
      " With new column :\n",
      " [[1 2 7 6]\n",
      " [3 4 8 9]]\n"
     ]
    }
   ],
   "source": [
    "orignal = np.array([[1,2],[3,4]])\n",
    "new_row = np.array([[5,6]])\n",
    "\n",
    "with_new_row = np.vstack((orignal,new_row))\n",
    "\n",
    "print(\"Orignal:\\n\",orignal)\n",
    "\n",
    "print(\"\\n With new Row :\\n\",with_new_row)\n",
    "\n",
    "new_col = np.array([[7],[8]])\n",
    "with_new_col = np.hstack((orignal,new_col))\n",
    "\n",
    "print(\"\\n With new column :\\n\",with_new_col)"
   ]
  },
  {
   "cell_type": "markdown",
   "id": "1b2c6b11",
   "metadata": {},
   "source": [
    "## Delete in array"
   ]
  },
  {
   "cell_type": "code",
   "execution_count": 9,
   "id": "b6d0e8d7",
   "metadata": {},
   "outputs": [
    {
     "name": "stdout",
     "output_type": "stream",
     "text": [
      "\n",
      " Array after deletion: [1 2 4 5]\n"
     ]
    }
   ],
   "source": [
    "arr = np.array([1,2,3,4,5])\n",
    "\n",
    "deleted = np.delete(arr,2)\n",
    "\n",
    "print(\"\\n Array after deletion:\",deleted)"
   ]
  },
  {
   "cell_type": "code",
   "execution_count": null,
   "id": "ad42afe7",
   "metadata": {},
   "outputs": [],
   "source": []
  }
 ],
 "metadata": {
  "kernelspec": {
   "display_name": ".venv",
   "language": "python",
   "name": "python3"
  },
  "language_info": {
   "codemirror_mode": {
    "name": "ipython",
    "version": 3
   },
   "file_extension": ".py",
   "mimetype": "text/x-python",
   "name": "python",
   "nbconvert_exporter": "python",
   "pygments_lexer": "ipython3",
   "version": "3.13.3"
  }
 },
 "nbformat": 4,
 "nbformat_minor": 5
}
