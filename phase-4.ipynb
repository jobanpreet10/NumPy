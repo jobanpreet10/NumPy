{
 "cells": [
  {
   "cell_type": "code",
   "execution_count": 1,
   "id": "ffab7c69",
   "metadata": {},
   "outputs": [],
   "source": [
    "import numpy as np\n",
    "import matplotlib.pyplot as plt\n"
   ]
  },
  {
   "cell_type": "code",
   "execution_count": 5,
   "id": "0074f603",
   "metadata": {},
   "outputs": [],
   "source": [
    "array1 = np.array([[1,2],[3,4]])\n",
    "array2 = np.random.rand(3,3)\n",
    "array3 = np.zeros((4,4))\n"
   ]
  },
  {
   "cell_type": "code",
   "execution_count": 6,
   "id": "2274a857",
   "metadata": {},
   "outputs": [],
   "source": [
    "np.save('array1.npy',array1)\n",
    "np.save('array2.npy',array2)\n",
    "np.save('array3.npy',array3)"
   ]
  },
  {
   "cell_type": "code",
   "execution_count": 7,
   "id": "87cd7196",
   "metadata": {},
   "outputs": [
    {
     "name": "stdout",
     "output_type": "stream",
     "text": [
      "[[1 2]\n",
      " [3 4]]\n"
     ]
    }
   ],
   "source": [
    "loaded_array1 = np.load('array1.npy')\n",
    "print(loaded_array1)"
   ]
  },
  {
   "cell_type": "code",
   "execution_count": null,
   "id": "3cd52674",
   "metadata": {},
   "outputs": [],
   "source": [
    "try:\n",
    "    logo = np.load()\n",
    "except FileNotFoundError\n",
    "    print(\"NumPy logo file not found\")"
   ]
  }
 ],
 "metadata": {
  "kernelspec": {
   "display_name": ".venv",
   "language": "python",
   "name": "python3"
  },
  "language_info": {
   "codemirror_mode": {
    "name": "ipython",
    "version": 3
   },
   "file_extension": ".py",
   "mimetype": "text/x-python",
   "name": "python",
   "nbconvert_exporter": "python",
   "pygments_lexer": "ipython3",
   "version": "3.13.3"
  }
 },
 "nbformat": 4,
 "nbformat_minor": 5
}
